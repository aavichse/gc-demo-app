{
 "cells": [
  {
   "cell_type": "markdown",
   "id": "74004978-2a6c-4617-b2ed-e50816eca314",
   "metadata": {},
   "source": [
    "##  Cillium Agents"
   ]
  },
  {
   "cell_type": "code",
   "execution_count": null,
   "id": "4c5c3b37-b45d-43cf-944d-4df4216f1ca4",
   "metadata": {},
   "outputs": [],
   "source": [
    "!kubectl -n kube-system get pods -l k8s-app=cilium -owide"
   ]
  },
  {
   "cell_type": "markdown",
   "id": "d9e99223-bea9-437f-b4ae-e96fd5b3861b",
   "metadata": {},
   "source": [
    "## Show Production App"
   ]
  },
  {
   "cell_type": "code",
   "execution_count": null,
   "id": "89c6aaf6-aaa3-4214-ab28-38ae8324e831",
   "metadata": {},
   "outputs": [],
   "source": [
    "!kubectl get pods -n kube-system "
   ]
  },
  {
   "cell_type": "code",
   "execution_count": 11,
   "id": "44dbce59-2c23-42df-ae37-c7162bc2fdc8",
   "metadata": {},
   "outputs": [
    {
     "name": "stdout",
     "output_type": "stream",
     "text": [
      "NAME                          READY   STATUS    RESTARTS        AGE   IP             NODE                 NOMINATED NODE   READINESS GATES\n",
      "collector-7dbcfbc46b-9fsqm    1/1     Running   1 (3h29m ago)   8h    10.244.2.81    my-cluster-worker2   <none>           <none>\n",
      "mgmt-7d7f75d999-fptbz         1/1     Running   1 (3h29m ago)   8h    10.244.2.179   my-cluster-worker2   <none>           <none>\n",
      "mock-mongo-779c79f69f-tdgpf   1/1     Running   1 (3h29m ago)   8h    10.244.2.57    my-cluster-worker2   <none>           <none>\n",
      "ui-5bc5f74697-jfxbb           1/1     Running   1 (3h29m ago)   8h    10.244.2.240   my-cluster-worker2   <none>           <none>\n"
     ]
    }
   ],
   "source": [
    "!kubectl get pods -n production -owide "
   ]
  },
  {
   "cell_type": "code",
   "execution_count": null,
   "id": "5df4cccf-6d62-4dff-9b7c-0a46fba44c86",
   "metadata": {},
   "outputs": [],
   "source": [
    "!kubectl get pod -n production  --show-labels"
   ]
  },
  {
   "cell_type": "markdown",
   "id": "b7d4e273-5d04-44e1-9298-5d2750bb7902",
   "metadata": {},
   "source": [
    "## Show Endpoints of UI "
   ]
  },
  {
   "cell_type": "code",
   "execution_count": null,
   "id": "89ed7b5f-ed07-471a-ba0c-522a1148eac7",
   "metadata": {},
   "outputs": [],
   "source": [
    "#%%bash \n",
    "# Endpoints in node \"my-cluster-worker\"\n",
    "# kubectl -n kube-system exec cilium-zh6rx  -- cilium-dbg endpoint list  \n",
    "\n",
    "# Endpoints in node \"my-cluster-worker2\"\n",
    "!kubectl -n kube-system exec cilium-8mgsf -- cilium-dbg endpoint list\n"
   ]
  },
  {
   "cell_type": "markdown",
   "id": "88d0322d-d324-4e14-8f13-6af057f32eb2",
   "metadata": {},
   "source": [
    "## Show Hubble UI \n"
   ]
  },
  {
   "cell_type": "markdown",
   "id": "58d8d8f4-0917-455e-8f03-a877aba9611d",
   "metadata": {},
   "source": [
    "1. Show **production** namespace\n",
    "2. Click on UI pod and view the identity=8389 and labels\n",
    "3. show the traffic to UI "
   ]
  },
  {
   "cell_type": "markdown",
   "id": "eaa4884a-b629-4655-b8dc-4da2224a6d19",
   "metadata": {},
   "source": [
    "## Hubble Observe"
   ]
  },
  {
   "cell_type": "markdown",
   "id": "4a0c69ea-5290-4569-b54f-520f9bbd562a",
   "metadata": {},
   "source": [
    "### Output Examples"
   ]
  },
  {
   "cell_type": "code",
   "execution_count": null,
   "id": "5498834e-d2ab-416d-b75e-618818745b31",
   "metadata": {},
   "outputs": [],
   "source": [
    "# network traffic in production namespace \n",
    "#!hubble observe --namespace production \n",
    "\n",
    "# network ingress/egress traffic of ui ONLY  \n",
    "!hubble observe --pod production/ui-5b9668859f-fs6fq \n",
    "\n",
    "# network ingress traffic to UI \n",
    "#!hubble observe --pod production/ui-655869d49c-wtkdt   --traffic-direction ingress"
   ]
  },
  {
   "cell_type": "markdown",
   "id": "3d3ebd04-456a-458d-a391-b82af980fe57",
   "metadata": {},
   "source": [
    "### Explain LOG"
   ]
  },
  {
   "cell_type": "markdown",
   "id": "658ea4ea-a9b8-41c5-adca-58dfbca44452",
   "metadata": {},
   "source": [
    "```\n",
    "Sep 11 08:25:07.258: production/mgmt-75f6bf4f9c-4qr76:51308 (ID:7056) -> production/ui-655869d49c-wtkdt:8080 (ID:8389) to-overlay FORWARDED (TCP Flags: SYN)\n",
    "Sep 11 08:25:07.258: production/mgmt-75f6bf4f9c-4qr76:51308 (ID:7056) -> production/ui-655869d49c-wtkdt:8080 (ID:8389) to-endpoint FORWARDED (TCP Flags: SYN)\n",
    "```\n",
    "\n",
    "#### to-overlay VS to-endpoint\n",
    "1. **to-endpoint**: Indicates direct pod-to-pod communication without encapsulation or routing through an overlay network.  \n",
    "   *This typically happens when the source and destination pods are on the same node or within the same network and do not require encapsulation.*\n",
    "\n",
    "2. **to-overlay**: Indicates that the traffic is being encapsulated and forwarded through an overlay network,  \n",
    "   usually, the source and destination pods are on different nodes, and encapsulation is needed to route the traffic between them.\n"
   ]
  },
  {
   "cell_type": "markdown",
   "id": "dcf1ce49-1589-4547-aa38-8c0bf8e26fee",
   "metadata": {},
   "source": [
    "#### Example to-endpoint"
   ]
  },
  {
   "cell_type": "markdown",
   "id": "c8246ac2-cf26-4ea9-a9e5-345db1fd166d",
   "metadata": {},
   "source": [
    "The collector and the ui pods are running on the same node \"my-cluster-worker\""
   ]
  },
  {
   "cell_type": "code",
   "execution_count": 12,
   "id": "96d09f63-fe80-494d-ba25-249e1defa178",
   "metadata": {},
   "outputs": [
    {
     "name": "stdout",
     "output_type": "stream",
     "text": [
      "Sep 16 06:31:40.565: \u001b[36mproduction/ui-5bc5f74697-jfxbb:\u001b[33m44478\u001b[0m\u001b[0m \u001b[35m(ID:16030)\u001b[0m <- \u001b[36mproduction/mgmt-7d7f75d999-fptbz:\u001b[33m8080\u001b[0m\u001b[0m \u001b[35m(ID:61457)\u001b[0m to-endpoint \u001b[32mFORWARDED\u001b[0m (TCP Flags: ACK, PSH)\n",
      "Sep 16 06:31:40.566: \u001b[36mproduction/ui-5bc5f74697-jfxbb:\u001b[33m44478\u001b[0m\u001b[0m \u001b[35m(ID:16030)\u001b[0m <- \u001b[36mproduction/mgmt-7d7f75d999-fptbz:\u001b[33m8080\u001b[0m\u001b[0m \u001b[35m(ID:61457)\u001b[0m to-endpoint \u001b[32mFORWARDED\u001b[0m (TCP Flags: ACK, FIN)\n",
      "Sep 16 06:31:42.134: \u001b[36mproduction/mgmt-7d7f75d999-fptbz:\u001b[33m60104\u001b[0m\u001b[0m \u001b[35m(ID:61457)\u001b[0m -> \u001b[36mproduction/ui-5bc5f74697-jfxbb:\u001b[33m8080\u001b[0m\u001b[0m \u001b[35m(ID:16030)\u001b[0m to-endpoint \u001b[32mFORWARDED\u001b[0m (TCP Flags: SYN)\n",
      "Sep 16 06:31:42.134: \u001b[36mproduction/mgmt-7d7f75d999-fptbz:\u001b[33m60104\u001b[0m\u001b[0m \u001b[35m(ID:61457)\u001b[0m -> \u001b[36mproduction/ui-5bc5f74697-jfxbb:\u001b[33m8080\u001b[0m\u001b[0m \u001b[35m(ID:16030)\u001b[0m to-endpoint \u001b[32mFORWARDED\u001b[0m (TCP Flags: ACK)\n",
      "Sep 16 06:31:42.134: \u001b[36mproduction/mgmt-7d7f75d999-fptbz:\u001b[33m60104\u001b[0m\u001b[0m \u001b[35m(ID:61457)\u001b[0m -> \u001b[36mproduction/ui-5bc5f74697-jfxbb:\u001b[33m8080\u001b[0m\u001b[0m \u001b[35m(ID:16030)\u001b[0m to-endpoint \u001b[32mFORWARDED\u001b[0m (TCP Flags: ACK, PSH)\n",
      "Sep 16 06:31:42.136: \u001b[36mproduction/mgmt-7d7f75d999-fptbz:\u001b[33m60104\u001b[0m\u001b[0m \u001b[35m(ID:61457)\u001b[0m -> \u001b[36mproduction/ui-5bc5f74697-jfxbb:\u001b[33m8080\u001b[0m\u001b[0m \u001b[35m(ID:16030)\u001b[0m to-endpoint \u001b[32mFORWARDED\u001b[0m (TCP Flags: ACK, FIN)\n",
      "Sep 16 06:31:42.136: \u001b[36mproduction/mgmt-7d7f75d999-fptbz:\u001b[33m60104\u001b[0m\u001b[0m \u001b[35m(ID:61457)\u001b[0m -> \u001b[36mproduction/ui-5bc5f74697-jfxbb:\u001b[33m8080\u001b[0m\u001b[0m \u001b[35m(ID:16030)\u001b[0m to-endpoint \u001b[32mFORWARDED\u001b[0m (TCP Flags: ACK)\n",
      "Sep 16 06:31:47.141: \u001b[36mproduction/mgmt-7d7f75d999-fptbz:\u001b[33m39126\u001b[0m\u001b[0m \u001b[35m(ID:61457)\u001b[0m -> \u001b[36mproduction/ui-5bc5f74697-jfxbb:\u001b[33m8080\u001b[0m\u001b[0m \u001b[35m(ID:16030)\u001b[0m to-endpoint \u001b[32mFORWARDED\u001b[0m (TCP Flags: SYN)\n",
      "Sep 16 06:31:47.141: \u001b[36mproduction/mgmt-7d7f75d999-fptbz:\u001b[33m39126\u001b[0m\u001b[0m \u001b[35m(ID:61457)\u001b[0m -> \u001b[36mproduction/ui-5bc5f74697-jfxbb:\u001b[33m8080\u001b[0m\u001b[0m \u001b[35m(ID:16030)\u001b[0m to-endpoint \u001b[32mFORWARDED\u001b[0m (TCP Flags: ACK)\n",
      "Sep 16 06:31:47.141: \u001b[36mproduction/mgmt-7d7f75d999-fptbz:\u001b[33m39126\u001b[0m\u001b[0m \u001b[35m(ID:61457)\u001b[0m -> \u001b[36mproduction/ui-5bc5f74697-jfxbb:\u001b[33m8080\u001b[0m\u001b[0m \u001b[35m(ID:16030)\u001b[0m to-endpoint \u001b[32mFORWARDED\u001b[0m (TCP Flags: ACK, PSH)\n",
      "Sep 16 06:31:47.142: \u001b[36mproduction/mgmt-7d7f75d999-fptbz:\u001b[33m39126\u001b[0m\u001b[0m \u001b[35m(ID:61457)\u001b[0m -> \u001b[36mproduction/ui-5bc5f74697-jfxbb:\u001b[33m8080\u001b[0m\u001b[0m \u001b[35m(ID:16030)\u001b[0m to-endpoint \u001b[32mFORWARDED\u001b[0m (TCP Flags: ACK, FIN)\n",
      "Sep 16 06:31:47.142: \u001b[36mproduction/mgmt-7d7f75d999-fptbz:\u001b[33m39126\u001b[0m\u001b[0m \u001b[35m(ID:61457)\u001b[0m -> \u001b[36mproduction/ui-5bc5f74697-jfxbb:\u001b[33m8080\u001b[0m\u001b[0m \u001b[35m(ID:16030)\u001b[0m to-endpoint \u001b[32mFORWARDED\u001b[0m (TCP Flags: ACK)\n",
      "Sep 16 06:31:50.577: \u001b[36mproduction/ui-5bc5f74697-jfxbb:\u001b[33m37696\u001b[0m\u001b[0m \u001b[35m(ID:16030)\u001b[0m <- \u001b[36mproduction/mgmt-7d7f75d999-fptbz:\u001b[33m8080\u001b[0m\u001b[0m \u001b[35m(ID:61457)\u001b[0m to-endpoint \u001b[32mFORWARDED\u001b[0m (TCP Flags: SYN, ACK)\n",
      "Sep 16 06:31:50.578: \u001b[36mproduction/ui-5bc5f74697-jfxbb:\u001b[33m37696\u001b[0m\u001b[0m \u001b[35m(ID:16030)\u001b[0m <- \u001b[36mproduction/mgmt-7d7f75d999-fptbz:\u001b[33m8080\u001b[0m\u001b[0m \u001b[35m(ID:61457)\u001b[0m to-endpoint \u001b[32mFORWARDED\u001b[0m (TCP Flags: ACK, PSH)\n",
      "Sep 16 06:31:50.579: \u001b[36mproduction/ui-5bc5f74697-jfxbb:\u001b[33m37696\u001b[0m\u001b[0m \u001b[35m(ID:16030)\u001b[0m <- \u001b[36mproduction/mgmt-7d7f75d999-fptbz:\u001b[33m8080\u001b[0m\u001b[0m \u001b[35m(ID:61457)\u001b[0m to-endpoint \u001b[32mFORWARDED\u001b[0m (TCP Flags: ACK, FIN)\n",
      "Sep 16 06:31:52.151: \u001b[36mproduction/mgmt-7d7f75d999-fptbz:\u001b[33m39130\u001b[0m\u001b[0m \u001b[35m(ID:61457)\u001b[0m -> \u001b[36mproduction/ui-5bc5f74697-jfxbb:\u001b[33m8080\u001b[0m\u001b[0m \u001b[35m(ID:16030)\u001b[0m to-endpoint \u001b[32mFORWARDED\u001b[0m (TCP Flags: SYN)\n",
      "Sep 16 06:31:52.151: \u001b[36mproduction/mgmt-7d7f75d999-fptbz:\u001b[33m39130\u001b[0m\u001b[0m \u001b[35m(ID:61457)\u001b[0m -> \u001b[36mproduction/ui-5bc5f74697-jfxbb:\u001b[33m8080\u001b[0m\u001b[0m \u001b[35m(ID:16030)\u001b[0m to-endpoint \u001b[32mFORWARDED\u001b[0m (TCP Flags: ACK)\n",
      "Sep 16 06:31:52.151: \u001b[36mproduction/mgmt-7d7f75d999-fptbz:\u001b[33m39130\u001b[0m\u001b[0m \u001b[35m(ID:61457)\u001b[0m -> \u001b[36mproduction/ui-5bc5f74697-jfxbb:\u001b[33m8080\u001b[0m\u001b[0m \u001b[35m(ID:16030)\u001b[0m to-endpoint \u001b[32mFORWARDED\u001b[0m (TCP Flags: ACK, PSH)\n",
      "Sep 16 06:31:52.153: \u001b[36mproduction/mgmt-7d7f75d999-fptbz:\u001b[33m39130\u001b[0m\u001b[0m \u001b[35m(ID:61457)\u001b[0m -> \u001b[36mproduction/ui-5bc5f74697-jfxbb:\u001b[33m8080\u001b[0m\u001b[0m \u001b[35m(ID:16030)\u001b[0m to-endpoint \u001b[32mFORWARDED\u001b[0m (TCP Flags: ACK, FIN)\n",
      "Sep 16 06:31:52.154: \u001b[36mproduction/mgmt-7d7f75d999-fptbz:\u001b[33m39130\u001b[0m\u001b[0m \u001b[35m(ID:61457)\u001b[0m -> \u001b[36mproduction/ui-5bc5f74697-jfxbb:\u001b[33m8080\u001b[0m\u001b[0m \u001b[35m(ID:16030)\u001b[0m to-endpoint \u001b[32mFORWARDED\u001b[0m (TCP Flags: ACK)\n"
     ]
    }
   ],
   "source": [
    "!hubble observe --to-pod production/ui-5bc5f74697-jfxbb --from-pod production/mgmt-7d7f75d999-fptbz "
   ]
  },
  {
   "cell_type": "code",
   "execution_count": 13,
   "id": "9e39e884-a15f-4f0c-a9de-2c54a257a805",
   "metadata": {},
   "outputs": [],
   "source": [
    "!hubble observe --verdict DROPPED "
   ]
  },
  {
   "cell_type": "markdown",
   "id": "1f7bca30-40f2-48ed-9271-15b51cd4f2a7",
   "metadata": {},
   "source": [
    "#### Example to-overlay"
   ]
  },
  {
   "cell_type": "markdown",
   "id": "f1a4e103-b6c5-4620-9a65-6d9d4f3f3a17",
   "metadata": {},
   "source": [
    "The mgmt and the ui pods are running on the same node \"my-cluster-worker\""
   ]
  },
  {
   "cell_type": "markdown",
   "id": "e55b7cef-0772-4148-95bf-9375f76a28bb",
   "metadata": {},
   "source": [
    "### Detailed Network LOG (JSON Format)"
   ]
  },
  {
   "cell_type": "markdown",
   "id": "ca6ae936-b2d2-49c9-80d5-bf428d1887a2",
   "metadata": {},
   "source": [
    "Show a single LOG and review the JSON content:\n",
    "1. source and dst : IPs, labels\n",
    "2. Node Labels "
   ]
  },
  {
   "cell_type": "code",
   "execution_count": 15,
   "id": "e2f9e5da-2c72-486b-bf7a-2b1d919cf231",
   "metadata": {
    "scrolled": true
   },
   "outputs": [
    {
     "name": "stdout",
     "output_type": "stream",
     "text": [
      "\u001b[1;39m{\n",
      "  \u001b[0m\u001b[34;1m\"flow\"\u001b[0m\u001b[1;39m: \u001b[0m\u001b[1;39m{\n",
      "    \u001b[0m\u001b[34;1m\"time\"\u001b[0m\u001b[1;39m: \u001b[0m\u001b[0;32m\"2024-09-16T06:32:20.612896770Z\"\u001b[0m\u001b[1;39m,\n",
      "    \u001b[0m\u001b[34;1m\"uuid\"\u001b[0m\u001b[1;39m: \u001b[0m\u001b[0;32m\"b3e50ecc-383e-45ad-9b0f-2b9f60205ae7\"\u001b[0m\u001b[1;39m,\n",
      "    \u001b[0m\u001b[34;1m\"verdict\"\u001b[0m\u001b[1;39m: \u001b[0m\u001b[0;32m\"FORWARDED\"\u001b[0m\u001b[1;39m,\n",
      "    \u001b[0m\u001b[34;1m\"ethernet\"\u001b[0m\u001b[1;39m: \u001b[0m\u001b[1;39m{\n",
      "      \u001b[0m\u001b[34;1m\"source\"\u001b[0m\u001b[1;39m: \u001b[0m\u001b[0;32m\"ea:3e:ed:32:43:0f\"\u001b[0m\u001b[1;39m,\n",
      "      \u001b[0m\u001b[34;1m\"destination\"\u001b[0m\u001b[1;39m: \u001b[0m\u001b[0;32m\"66:12:9b:64:49:36\"\u001b[0m\u001b[1;39m\n",
      "    \u001b[1;39m}\u001b[0m\u001b[1;39m,\n",
      "    \u001b[0m\u001b[34;1m\"IP\"\u001b[0m\u001b[1;39m: \u001b[0m\u001b[1;39m{\n",
      "      \u001b[0m\u001b[34;1m\"source\"\u001b[0m\u001b[1;39m: \u001b[0m\u001b[0;32m\"10.244.1.227\"\u001b[0m\u001b[1;39m,\n",
      "      \u001b[0m\u001b[34;1m\"destination\"\u001b[0m\u001b[1;39m: \u001b[0m\u001b[0;32m\"10.244.2.240\"\u001b[0m\u001b[1;39m,\n",
      "      \u001b[0m\u001b[34;1m\"ipVersion\"\u001b[0m\u001b[1;39m: \u001b[0m\u001b[0;32m\"IPv4\"\u001b[0m\u001b[1;39m\n",
      "    \u001b[1;39m}\u001b[0m\u001b[1;39m,\n",
      "    \u001b[0m\u001b[34;1m\"l4\"\u001b[0m\u001b[1;39m: \u001b[0m\u001b[1;39m{\n",
      "      \u001b[0m\u001b[34;1m\"UDP\"\u001b[0m\u001b[1;39m: \u001b[0m\u001b[1;39m{\n",
      "        \u001b[0m\u001b[34;1m\"source_port\"\u001b[0m\u001b[1;39m: \u001b[0m\u001b[0;39m53\u001b[0m\u001b[1;39m,\n",
      "        \u001b[0m\u001b[34;1m\"destination_port\"\u001b[0m\u001b[1;39m: \u001b[0m\u001b[0;39m50858\u001b[0m\u001b[1;39m\n",
      "      \u001b[1;39m}\u001b[0m\u001b[1;39m\n",
      "    \u001b[1;39m}\u001b[0m\u001b[1;39m,\n",
      "    \u001b[0m\u001b[34;1m\"source\"\u001b[0m\u001b[1;39m: \u001b[0m\u001b[1;39m{\n",
      "      \u001b[0m\u001b[34;1m\"ID\"\u001b[0m\u001b[1;39m: \u001b[0m\u001b[0;39m627\u001b[0m\u001b[1;39m,\n",
      "      \u001b[0m\u001b[34;1m\"identity\"\u001b[0m\u001b[1;39m: \u001b[0m\u001b[0;39m16152\u001b[0m\u001b[1;39m,\n",
      "      \u001b[0m\u001b[34;1m\"namespace\"\u001b[0m\u001b[1;39m: \u001b[0m\u001b[0;32m\"kube-system\"\u001b[0m\u001b[1;39m,\n",
      "      \u001b[0m\u001b[34;1m\"labels\"\u001b[0m\u001b[1;39m: \u001b[0m\u001b[1;39m[\n",
      "        \u001b[0;32m\"k8s:io.cilium.k8s.namespace.labels.kubernetes.io/metadata.name=kube-system\"\u001b[0m\u001b[1;39m,\n",
      "        \u001b[0;32m\"k8s:io.cilium.k8s.policy.cluster=default\"\u001b[0m\u001b[1;39m,\n",
      "        \u001b[0;32m\"k8s:io.cilium.k8s.policy.serviceaccount=coredns\"\u001b[0m\u001b[1;39m,\n",
      "        \u001b[0;32m\"k8s:io.kubernetes.pod.namespace=kube-system\"\u001b[0m\u001b[1;39m,\n",
      "        \u001b[0;32m\"k8s:k8s-app=kube-dns\"\u001b[0m\u001b[1;39m\n",
      "      \u001b[1;39m]\u001b[0m\u001b[1;39m,\n",
      "      \u001b[0m\u001b[34;1m\"pod_name\"\u001b[0m\u001b[1;39m: \u001b[0m\u001b[0;32m\"coredns-76f75df574-72z2v\"\u001b[0m\u001b[1;39m,\n",
      "      \u001b[0m\u001b[34;1m\"workloads\"\u001b[0m\u001b[1;39m: \u001b[0m\u001b[1;39m[\n",
      "        \u001b[1;39m{\n",
      "          \u001b[0m\u001b[34;1m\"name\"\u001b[0m\u001b[1;39m: \u001b[0m\u001b[0;32m\"coredns\"\u001b[0m\u001b[1;39m,\n",
      "          \u001b[0m\u001b[34;1m\"kind\"\u001b[0m\u001b[1;39m: \u001b[0m\u001b[0;32m\"Deployment\"\u001b[0m\u001b[1;39m\n",
      "        \u001b[1;39m}\u001b[0m\u001b[1;39m\n",
      "      \u001b[1;39m]\u001b[0m\u001b[1;39m\n",
      "    \u001b[1;39m}\u001b[0m\u001b[1;39m,\n",
      "    \u001b[0m\u001b[34;1m\"destination\"\u001b[0m\u001b[1;39m: \u001b[0m\u001b[1;39m{\n",
      "      \u001b[0m\u001b[34;1m\"identity\"\u001b[0m\u001b[1;39m: \u001b[0m\u001b[0;39m16030\u001b[0m\u001b[1;39m,\n",
      "      \u001b[0m\u001b[34;1m\"cluster_name\"\u001b[0m\u001b[1;39m: \u001b[0m\u001b[0;32m\"default\"\u001b[0m\u001b[1;39m,\n",
      "      \u001b[0m\u001b[34;1m\"namespace\"\u001b[0m\u001b[1;39m: \u001b[0m\u001b[0;32m\"production\"\u001b[0m\u001b[1;39m,\n",
      "      \u001b[0m\u001b[34;1m\"labels\"\u001b[0m\u001b[1;39m: \u001b[0m\u001b[1;39m[\n",
      "        \u001b[0;32m\"k8s:app=ui\"\u001b[0m\u001b[1;39m,\n",
      "        \u001b[0;32m\"k8s:io.cilium.k8s.namespace.labels.app.kubernetes.io/managed-by=Helm\"\u001b[0m\u001b[1;39m,\n",
      "        \u001b[0;32m\"k8s:io.cilium.k8s.namespace.labels.kubernetes.io/metadata.name=production\"\u001b[0m\u001b[1;39m,\n",
      "        \u001b[0;32m\"k8s:io.cilium.k8s.policy.cluster=default\"\u001b[0m\u001b[1;39m,\n",
      "        \u001b[0;32m\"k8s:io.cilium.k8s.policy.serviceaccount=default\"\u001b[0m\u001b[1;39m,\n",
      "        \u001b[0;32m\"k8s:io.kubernetes.pod.namespace=production\"\u001b[0m\u001b[1;39m,\n",
      "        \u001b[0;32m\"k8s:role=frontend\"\u001b[0m\u001b[1;39m\n",
      "      \u001b[1;39m]\u001b[0m\u001b[1;39m,\n",
      "      \u001b[0m\u001b[34;1m\"pod_name\"\u001b[0m\u001b[1;39m: \u001b[0m\u001b[0;32m\"ui-5bc5f74697-jfxbb\"\u001b[0m\u001b[1;39m\n",
      "    \u001b[1;39m}\u001b[0m\u001b[1;39m,\n",
      "    \u001b[0m\u001b[34;1m\"Type\"\u001b[0m\u001b[1;39m: \u001b[0m\u001b[0;32m\"L3_L4\"\u001b[0m\u001b[1;39m,\n",
      "    \u001b[0m\u001b[34;1m\"node_name\"\u001b[0m\u001b[1;39m: \u001b[0m\u001b[0;32m\"my-cluster-worker\"\u001b[0m\u001b[1;39m,\n",
      "    \u001b[0m\u001b[34;1m\"node_labels\"\u001b[0m\u001b[1;39m: \u001b[0m\u001b[1;39m[\n",
      "      \u001b[0;32m\"beta.kubernetes.io/arch=amd64\"\u001b[0m\u001b[1;39m,\n",
      "      \u001b[0;32m\"beta.kubernetes.io/os=linux\"\u001b[0m\u001b[1;39m,\n",
      "      \u001b[0;32m\"kubernetes.io/arch=amd64\"\u001b[0m\u001b[1;39m,\n",
      "      \u001b[0;32m\"kubernetes.io/hostname=my-cluster-worker\"\u001b[0m\u001b[1;39m,\n",
      "      \u001b[0;32m\"kubernetes.io/os=linux\"\u001b[0m\u001b[1;39m\n",
      "    \u001b[1;39m]\u001b[0m\u001b[1;39m,\n",
      "    \u001b[0m\u001b[34;1m\"reply\"\u001b[0m\u001b[1;39m: \u001b[0m\u001b[0;39mtrue\u001b[0m\u001b[1;39m,\n",
      "    \u001b[0m\u001b[34;1m\"event_type\"\u001b[0m\u001b[1;39m: \u001b[0m\u001b[1;39m{\n",
      "      \u001b[0m\u001b[34;1m\"type\"\u001b[0m\u001b[1;39m: \u001b[0m\u001b[0;39m4\u001b[0m\u001b[1;39m,\n",
      "      \u001b[0m\u001b[34;1m\"sub_type\"\u001b[0m\u001b[1;39m: \u001b[0m\u001b[0;39m4\u001b[0m\u001b[1;39m\n",
      "    \u001b[1;39m}\u001b[0m\u001b[1;39m,\n",
      "    \u001b[0m\u001b[34;1m\"traffic_direction\"\u001b[0m\u001b[1;39m: \u001b[0m\u001b[0;32m\"INGRESS\"\u001b[0m\u001b[1;39m,\n",
      "    \u001b[0m\u001b[34;1m\"trace_observation_point\"\u001b[0m\u001b[1;39m: \u001b[0m\u001b[0;32m\"TO_OVERLAY\"\u001b[0m\u001b[1;39m,\n",
      "    \u001b[0m\u001b[34;1m\"trace_reason\"\u001b[0m\u001b[1;39m: \u001b[0m\u001b[0;32m\"REPLY\"\u001b[0m\u001b[1;39m,\n",
      "    \u001b[0m\u001b[34;1m\"is_reply\"\u001b[0m\u001b[1;39m: \u001b[0m\u001b[0;39mtrue\u001b[0m\u001b[1;39m,\n",
      "    \u001b[0m\u001b[34;1m\"interface\"\u001b[0m\u001b[1;39m: \u001b[0m\u001b[1;39m{\n",
      "      \u001b[0m\u001b[34;1m\"index\"\u001b[0m\u001b[1;39m: \u001b[0m\u001b[0;39m4\u001b[0m\u001b[1;39m,\n",
      "      \u001b[0m\u001b[34;1m\"name\"\u001b[0m\u001b[1;39m: \u001b[0m\u001b[0;32m\"cilium_vxlan\"\u001b[0m\u001b[1;39m\n",
      "    \u001b[1;39m}\u001b[0m\u001b[1;39m,\n",
      "    \u001b[0m\u001b[34;1m\"Summary\"\u001b[0m\u001b[1;39m: \u001b[0m\u001b[0;32m\"UDP\"\u001b[0m\u001b[1;39m\n",
      "  \u001b[1;39m}\u001b[0m\u001b[1;39m,\n",
      "  \u001b[0m\u001b[34;1m\"node_name\"\u001b[0m\u001b[1;39m: \u001b[0m\u001b[0;32m\"my-cluster-worker\"\u001b[0m\u001b[1;39m,\n",
      "  \u001b[0m\u001b[34;1m\"time\"\u001b[0m\u001b[1;39m: \u001b[0m\u001b[0;32m\"2024-09-16T06:32:20.612896770Z\"\u001b[0m\u001b[1;39m\n",
      "\u001b[1;39m}\u001b[0m\n",
      "\u001b[1;39m{\n",
      "  \u001b[0m\u001b[34;1m\"flow\"\u001b[0m\u001b[1;39m: \u001b[0m\u001b[1;39m{\n",
      "    \u001b[0m\u001b[34;1m\"time\"\u001b[0m\u001b[1;39m: \u001b[0m\u001b[0;32m\"2024-09-16T06:32:27.827025033Z\"\u001b[0m\u001b[1;39m,\n",
      "    \u001b[0m\u001b[34;1m\"uuid\"\u001b[0m\u001b[1;39m: \u001b[0m\u001b[0;32m\"6dd00ed8-a202-432c-9623-b40176540407\"\u001b[0m\u001b[1;39m,\n",
      "    \u001b[0m\u001b[34;1m\"verdict\"\u001b[0m\u001b[1;39m: \u001b[0m\u001b[0;32m\"FORWARDED\"\u001b[0m\u001b[1;39m,\n",
      "    \u001b[0m\u001b[34;1m\"ethernet\"\u001b[0m\u001b[1;39m: \u001b[0m\u001b[1;39m{\n",
      "      \u001b[0m\u001b[34;1m\"source\"\u001b[0m\u001b[1;39m: \u001b[0m\u001b[0;32m\"76:4c:43:cc:11:19\"\u001b[0m\u001b[1;39m,\n",
      "      \u001b[0m\u001b[34;1m\"destination\"\u001b[0m\u001b[1;39m: \u001b[0m\u001b[0;32m\"aa:40:60:83:10:bd\"\u001b[0m\u001b[1;39m\n",
      "    \u001b[1;39m}\u001b[0m\u001b[1;39m,\n",
      "    \u001b[0m\u001b[34;1m\"IP\"\u001b[0m\u001b[1;39m: \u001b[0m\u001b[1;39m{\n",
      "      \u001b[0m\u001b[34;1m\"source\"\u001b[0m\u001b[1;39m: \u001b[0m\u001b[0;32m\"10.244.2.30\"\u001b[0m\u001b[1;39m,\n",
      "      \u001b[0m\u001b[34;1m\"destination\"\u001b[0m\u001b[1;39m: \u001b[0m\u001b[0;32m\"10.244.2.240\"\u001b[0m\u001b[1;39m,\n",
      "      \u001b[0m\u001b[34;1m\"ipVersion\"\u001b[0m\u001b[1;39m: \u001b[0m\u001b[0;32m\"IPv4\"\u001b[0m\u001b[1;39m\n",
      "    \u001b[1;39m}\u001b[0m\u001b[1;39m,\n",
      "    \u001b[0m\u001b[34;1m\"l4\"\u001b[0m\u001b[1;39m: \u001b[0m\u001b[1;39m{\n",
      "      \u001b[0m\u001b[34;1m\"TCP\"\u001b[0m\u001b[1;39m: \u001b[0m\u001b[1;39m{\n",
      "        \u001b[0m\u001b[34;1m\"source_port\"\u001b[0m\u001b[1;39m: \u001b[0m\u001b[0;39m44772\u001b[0m\u001b[1;39m,\n",
      "        \u001b[0m\u001b[34;1m\"destination_port\"\u001b[0m\u001b[1;39m: \u001b[0m\u001b[0;39m8080\u001b[0m\u001b[1;39m,\n",
      "        \u001b[0m\u001b[34;1m\"flags\"\u001b[0m\u001b[1;39m: \u001b[0m\u001b[1;39m{\n",
      "          \u001b[0m\u001b[34;1m\"ACK\"\u001b[0m\u001b[1;39m: \u001b[0m\u001b[0;39mtrue\u001b[0m\u001b[1;39m\n",
      "        \u001b[1;39m}\u001b[0m\u001b[1;39m\n",
      "      \u001b[1;39m}\u001b[0m\u001b[1;39m\n",
      "    \u001b[1;39m}\u001b[0m\u001b[1;39m,\n",
      "    \u001b[0m\u001b[34;1m\"source\"\u001b[0m\u001b[1;39m: \u001b[0m\u001b[1;39m{\n",
      "      \u001b[0m\u001b[34;1m\"ID\"\u001b[0m\u001b[1;39m: \u001b[0m\u001b[0;39m484\u001b[0m\u001b[1;39m,\n",
      "      \u001b[0m\u001b[34;1m\"identity\"\u001b[0m\u001b[1;39m: \u001b[0m\u001b[0;39m9463\u001b[0m\u001b[1;39m,\n",
      "      \u001b[0m\u001b[34;1m\"namespace\"\u001b[0m\u001b[1;39m: \u001b[0m\u001b[0;32m\"qa\"\u001b[0m\u001b[1;39m,\n",
      "      \u001b[0m\u001b[34;1m\"labels\"\u001b[0m\u001b[1;39m: \u001b[0m\u001b[1;39m[\n",
      "        \u001b[0;32m\"k8s:app=mgmt\"\u001b[0m\u001b[1;39m,\n",
      "        \u001b[0;32m\"k8s:io.cilium.k8s.namespace.labels.app.kubernetes.io/managed-by=Helm\"\u001b[0m\u001b[1;39m,\n",
      "        \u001b[0;32m\"k8s:io.cilium.k8s.namespace.labels.kubernetes.io/metadata.name=qa\"\u001b[0m\u001b[1;39m,\n",
      "        \u001b[0;32m\"k8s:io.cilium.k8s.policy.cluster=default\"\u001b[0m\u001b[1;39m,\n",
      "        \u001b[0;32m\"k8s:io.cilium.k8s.policy.serviceaccount=default\"\u001b[0m\u001b[1;39m,\n",
      "        \u001b[0;32m\"k8s:io.kubernetes.pod.namespace=qa\"\u001b[0m\u001b[1;39m,\n",
      "        \u001b[0;32m\"k8s:role=backend\"\u001b[0m\u001b[1;39m\n",
      "      \u001b[1;39m]\u001b[0m\u001b[1;39m,\n",
      "      \u001b[0m\u001b[34;1m\"pod_name\"\u001b[0m\u001b[1;39m: \u001b[0m\u001b[0;32m\"mgmt-64b748bdf9-zw6xn\"\u001b[0m\u001b[1;39m,\n",
      "      \u001b[0m\u001b[34;1m\"workloads\"\u001b[0m\u001b[1;39m: \u001b[0m\u001b[1;39m[\n",
      "        \u001b[1;39m{\n",
      "          \u001b[0m\u001b[34;1m\"name\"\u001b[0m\u001b[1;39m: \u001b[0m\u001b[0;32m\"mgmt\"\u001b[0m\u001b[1;39m,\n",
      "          \u001b[0m\u001b[34;1m\"kind\"\u001b[0m\u001b[1;39m: \u001b[0m\u001b[0;32m\"Deployment\"\u001b[0m\u001b[1;39m\n",
      "        \u001b[1;39m}\u001b[0m\u001b[1;39m\n",
      "      \u001b[1;39m]\u001b[0m\u001b[1;39m\n",
      "    \u001b[1;39m}\u001b[0m\u001b[1;39m,\n",
      "    \u001b[0m\u001b[34;1m\"destination\"\u001b[0m\u001b[1;39m: \u001b[0m\u001b[1;39m{\n",
      "      \u001b[0m\u001b[34;1m\"ID\"\u001b[0m\u001b[1;39m: \u001b[0m\u001b[0;39m3264\u001b[0m\u001b[1;39m,\n",
      "      \u001b[0m\u001b[34;1m\"identity\"\u001b[0m\u001b[1;39m: \u001b[0m\u001b[0;39m16030\u001b[0m\u001b[1;39m,\n",
      "      \u001b[0m\u001b[34;1m\"namespace\"\u001b[0m\u001b[1;39m: \u001b[0m\u001b[0;32m\"production\"\u001b[0m\u001b[1;39m,\n",
      "      \u001b[0m\u001b[34;1m\"labels\"\u001b[0m\u001b[1;39m: \u001b[0m\u001b[1;39m[\n",
      "        \u001b[0;32m\"k8s:app=ui\"\u001b[0m\u001b[1;39m,\n",
      "        \u001b[0;32m\"k8s:io.cilium.k8s.namespace.labels.app.kubernetes.io/managed-by=Helm\"\u001b[0m\u001b[1;39m,\n",
      "        \u001b[0;32m\"k8s:io.cilium.k8s.namespace.labels.kubernetes.io/metadata.name=production\"\u001b[0m\u001b[1;39m,\n",
      "        \u001b[0;32m\"k8s:io.cilium.k8s.policy.cluster=default\"\u001b[0m\u001b[1;39m,\n",
      "        \u001b[0;32m\"k8s:io.cilium.k8s.policy.serviceaccount=default\"\u001b[0m\u001b[1;39m,\n",
      "        \u001b[0;32m\"k8s:io.kubernetes.pod.namespace=production\"\u001b[0m\u001b[1;39m,\n",
      "        \u001b[0;32m\"k8s:role=frontend\"\u001b[0m\u001b[1;39m\n",
      "      \u001b[1;39m]\u001b[0m\u001b[1;39m,\n",
      "      \u001b[0m\u001b[34;1m\"pod_name\"\u001b[0m\u001b[1;39m: \u001b[0m\u001b[0;32m\"ui-5bc5f74697-jfxbb\"\u001b[0m\u001b[1;39m,\n",
      "      \u001b[0m\u001b[34;1m\"workloads\"\u001b[0m\u001b[1;39m: \u001b[0m\u001b[1;39m[\n",
      "        \u001b[1;39m{\n",
      "          \u001b[0m\u001b[34;1m\"name\"\u001b[0m\u001b[1;39m: \u001b[0m\u001b[0;32m\"ui\"\u001b[0m\u001b[1;39m,\n",
      "          \u001b[0m\u001b[34;1m\"kind\"\u001b[0m\u001b[1;39m: \u001b[0m\u001b[0;32m\"Deployment\"\u001b[0m\u001b[1;39m\n",
      "        \u001b[1;39m}\u001b[0m\u001b[1;39m\n",
      "      \u001b[1;39m]\u001b[0m\u001b[1;39m\n",
      "    \u001b[1;39m}\u001b[0m\u001b[1;39m,\n",
      "    \u001b[0m\u001b[34;1m\"Type\"\u001b[0m\u001b[1;39m: \u001b[0m\u001b[0;32m\"L3_L4\"\u001b[0m\u001b[1;39m,\n",
      "    \u001b[0m\u001b[34;1m\"node_name\"\u001b[0m\u001b[1;39m: \u001b[0m\u001b[0;32m\"my-cluster-worker2\"\u001b[0m\u001b[1;39m,\n",
      "    \u001b[0m\u001b[34;1m\"node_labels\"\u001b[0m\u001b[1;39m: \u001b[0m\u001b[1;39m[\n",
      "      \u001b[0;32m\"beta.kubernetes.io/arch=amd64\"\u001b[0m\u001b[1;39m,\n",
      "      \u001b[0;32m\"beta.kubernetes.io/os=linux\"\u001b[0m\u001b[1;39m,\n",
      "      \u001b[0;32m\"kubernetes.io/arch=amd64\"\u001b[0m\u001b[1;39m,\n",
      "      \u001b[0;32m\"kubernetes.io/hostname=my-cluster-worker2\"\u001b[0m\u001b[1;39m,\n",
      "      \u001b[0;32m\"kubernetes.io/os=linux\"\u001b[0m\u001b[1;39m\n",
      "    \u001b[1;39m]\u001b[0m\u001b[1;39m,\n",
      "    \u001b[0m\u001b[34;1m\"event_type\"\u001b[0m\u001b[1;39m: \u001b[0m\u001b[1;39m{\n",
      "      \u001b[0m\u001b[34;1m\"type\"\u001b[0m\u001b[1;39m: \u001b[0m\u001b[0;39m4\u001b[0m\u001b[1;39m\n",
      "    \u001b[1;39m}\u001b[0m\u001b[1;39m,\n",
      "    \u001b[0m\u001b[34;1m\"traffic_direction\"\u001b[0m\u001b[1;39m: \u001b[0m\u001b[0;32m\"EGRESS\"\u001b[0m\u001b[1;39m,\n",
      "    \u001b[0m\u001b[34;1m\"trace_observation_point\"\u001b[0m\u001b[1;39m: \u001b[0m\u001b[0;32m\"TO_ENDPOINT\"\u001b[0m\u001b[1;39m,\n",
      "    \u001b[0m\u001b[34;1m\"trace_reason\"\u001b[0m\u001b[1;39m: \u001b[0m\u001b[0;32m\"ESTABLISHED\"\u001b[0m\u001b[1;39m,\n",
      "    \u001b[0m\u001b[34;1m\"is_reply\"\u001b[0m\u001b[1;39m: \u001b[0m\u001b[0;39mfalse\u001b[0m\u001b[1;39m,\n",
      "    \u001b[0m\u001b[34;1m\"interface\"\u001b[0m\u001b[1;39m: \u001b[0m\u001b[1;39m{\n",
      "      \u001b[0m\u001b[34;1m\"index\"\u001b[0m\u001b[1;39m: \u001b[0m\u001b[0;39m25\u001b[0m\u001b[1;39m,\n",
      "      \u001b[0m\u001b[34;1m\"name\"\u001b[0m\u001b[1;39m: \u001b[0m\u001b[0;32m\"lxc60b7ac966e69\"\u001b[0m\u001b[1;39m\n",
      "    \u001b[1;39m}\u001b[0m\u001b[1;39m,\n",
      "    \u001b[0m\u001b[34;1m\"Summary\"\u001b[0m\u001b[1;39m: \u001b[0m\u001b[0;32m\"TCP Flags: ACK\"\u001b[0m\u001b[1;39m\n",
      "  \u001b[1;39m}\u001b[0m\u001b[1;39m,\n",
      "  \u001b[0m\u001b[34;1m\"node_name\"\u001b[0m\u001b[1;39m: \u001b[0m\u001b[0;32m\"my-cluster-worker2\"\u001b[0m\u001b[1;39m,\n",
      "  \u001b[0m\u001b[34;1m\"time\"\u001b[0m\u001b[1;39m: \u001b[0m\u001b[0;32m\"2024-09-16T06:32:27.827025033Z\"\u001b[0m\u001b[1;39m\n",
      "\u001b[1;39m}\u001b[0m\n"
     ]
    }
   ],
   "source": [
    "!hubble observe --pod production/ui-5bc5f74697-jfxbb   --last 1 --output json | jq "
   ]
  },
  {
   "cell_type": "markdown",
   "id": "5d17019c-aa8c-4b64-95c5-30a683fa8a03",
   "metadata": {},
   "source": [
    "### [TODO: What is **trace_observation_point**]"
   ]
  },
  {
   "cell_type": "markdown",
   "id": "e58c57f0-11b1-4d60-8344-2ba32c52871b",
   "metadata": {},
   "source": [
    "## Enforcement"
   ]
  },
  {
   "cell_type": "markdown",
   "id": "0385e531-b8d3-4bc4-b1be-3a69db9344e6",
   "metadata": {},
   "source": [
    "### Isolate qa and production"
   ]
  },
  {
   "cell_type": "code",
   "execution_count": null,
   "id": "dba1ec5a-f215-4290-85a4-7d9b00845188",
   "metadata": {},
   "outputs": [],
   "source": [
    "#!kubectl apply -f policies/isolate-prod-qa.yaml"
   ]
  },
  {
   "cell_type": "code",
   "execution_count": null,
   "id": "06aaa1f3-5cbc-4661-b46d-16dda0cc71fa",
   "metadata": {},
   "outputs": [],
   "source": [
    "#!hubble observe --from-pod production/ui-655869d49c-wtkdt  --verdict DROPPED"
   ]
  },
  {
   "cell_type": "markdown",
   "id": "c4a4e8d1-bb16-46bb-81b5-4f562eb98d98",
   "metadata": {},
   "source": [
    "# Helm Update"
   ]
  },
  {
   "cell_type": "code",
   "execution_count": null,
   "id": "5712ee89-1667-4f8a-a77b-1b5bcd883b9a",
   "metadata": {},
   "outputs": [],
   "source": [
    "!kubectl apply -f ringfence/production \n",
    "!kubectl apply -f ringfence/qa\n",
    "!kubectl apply -f ringfence/dev"
   ]
  },
  {
   "cell_type": "code",
   "execution_count": null,
   "id": "6e8b7a23-d308-421a-9307-4da43454e106",
   "metadata": {},
   "outputs": [],
   "source": [
    "!kubectl get cnp -n qa"
   ]
  },
  {
   "cell_type": "code",
   "execution_count": null,
   "id": "09477a02-753e-4cdc-8db1-3eec1e68c0fe",
   "metadata": {},
   "outputs": [],
   "source": [
    "!kubectl delete -f ringfence/production \n",
    "!kubectl delete -f ringfence/qa\n",
    "!kubectl delete -f ringfence/dev"
   ]
  },
  {
   "cell_type": "code",
   "execution_count": null,
   "id": "5dcb6342-b39b-4ccf-8d40-2fb28f64c20d",
   "metadata": {},
   "outputs": [],
   "source": []
  }
 ],
 "metadata": {
  "kernelspec": {
   "display_name": "Python 3 (ipykernel)",
   "language": "python",
   "name": "python3"
  },
  "language_info": {
   "codemirror_mode": {
    "name": "ipython",
    "version": 3
   },
   "file_extension": ".py",
   "mimetype": "text/x-python",
   "name": "python",
   "nbconvert_exporter": "python",
   "pygments_lexer": "ipython3",
   "version": "3.11.9"
  }
 },
 "nbformat": 4,
 "nbformat_minor": 5
}
